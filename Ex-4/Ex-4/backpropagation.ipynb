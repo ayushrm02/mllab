{
 "cells": [
  {
   "cell_type": "code",
   "execution_count": 6,
   "metadata": {
    "colab": {
     "base_uri": "https://localhost:8080/"
    },
    "executionInfo": {
     "elapsed": 73,
     "status": "ok",
     "timestamp": 1741096778056,
     "user": {
      "displayName": "Kavyasri V J",
      "userId": "05133862930213552696"
     },
     "user_tz": -330
    },
    "id": "Eso-VgXxalfx",
    "outputId": "91777f5f-dd93-4882-9386-97f6771b9dff"
   },
   "outputs": [
    {
     "name": "stdout",
     "output_type": "stream",
     "text": [
      "   age     sex chest_pain_type  resting_blood_pressure  cholestoral  \\\n",
      "0   52    Male  Typical angina                     125          212   \n",
      "1   53    Male  Typical angina                     140          203   \n",
      "2   70    Male  Typical angina                     145          174   \n",
      "3   61    Male  Typical angina                     148          203   \n",
      "4   62  Female  Typical angina                     138          294   \n",
      "\n",
      "      fasting_blood_sugar               rest_ecg  Max_heart_rate  \\\n",
      "0    Lower than 120 mg/ml  ST-T wave abnormality             168   \n",
      "1  Greater than 120 mg/ml                 Normal             155   \n",
      "2    Lower than 120 mg/ml  ST-T wave abnormality             125   \n",
      "3    Lower than 120 mg/ml  ST-T wave abnormality             161   \n",
      "4  Greater than 120 mg/ml  ST-T wave abnormality             106   \n",
      "\n",
      "  exercise_induced_angina  oldpeak        slope vessels_colored_by_flourosopy  \\\n",
      "0                      No      1.0  Downsloping                           Two   \n",
      "1                     Yes      3.1    Upsloping                          Zero   \n",
      "2                     Yes      2.6    Upsloping                          Zero   \n",
      "3                      No      0.0  Downsloping                           One   \n",
      "4                      No      1.9         Flat                         Three   \n",
      "\n",
      "         thalassemia  target  \n",
      "0  Reversable Defect       0  \n",
      "1  Reversable Defect       0  \n",
      "2  Reversable Defect       0  \n",
      "3  Reversable Defect       0  \n",
      "4       Fixed Defect       0  \n",
      "<class 'pandas.core.frame.DataFrame'>\n",
      "RangeIndex: 1025 entries, 0 to 1024\n",
      "Data columns (total 14 columns):\n",
      " #   Column                         Non-Null Count  Dtype  \n",
      "---  ------                         --------------  -----  \n",
      " 0   age                            1025 non-null   int64  \n",
      " 1   sex                            1025 non-null   object \n",
      " 2   chest_pain_type                1025 non-null   object \n",
      " 3   resting_blood_pressure         1025 non-null   int64  \n",
      " 4   cholestoral                    1025 non-null   int64  \n",
      " 5   fasting_blood_sugar            1025 non-null   object \n",
      " 6   rest_ecg                       1025 non-null   object \n",
      " 7   Max_heart_rate                 1025 non-null   int64  \n",
      " 8   exercise_induced_angina        1025 non-null   object \n",
      " 9   oldpeak                        1025 non-null   float64\n",
      " 10  slope                          1025 non-null   object \n",
      " 11  vessels_colored_by_flourosopy  1025 non-null   object \n",
      " 12  thalassemia                    1025 non-null   object \n",
      " 13  target                         1025 non-null   int64  \n",
      "dtypes: float64(1), int64(5), object(8)\n",
      "memory usage: 112.2+ KB\n",
      "None\n",
      "age                              0\n",
      "sex                              0\n",
      "chest_pain_type                  0\n",
      "resting_blood_pressure           0\n",
      "cholestoral                      0\n",
      "fasting_blood_sugar              0\n",
      "rest_ecg                         0\n",
      "Max_heart_rate                   0\n",
      "exercise_induced_angina          0\n",
      "oldpeak                          0\n",
      "slope                            0\n",
      "vessels_colored_by_flourosopy    0\n",
      "thalassemia                      0\n",
      "target                           0\n",
      "dtype: int64\n",
      "Processed Data:\n",
      "X1 (Age): [0.47916667 0.5        0.85416667 0.66666667 0.6875    ]\n",
      "X2 (Cholesterol): [0.19634703 0.17579909 0.10958904 0.17579909 0.38356164]\n",
      "y (Target): [0 0 0 0 0]\n"
     ]
    }
   ],
   "source": [
    "import pandas as pd\n",
    "import numpy as np\n",
    "import math\n",
    "import seaborn as sns\n",
    "import matplotlib.pyplot as plt\n",
    "import random\n",
    "\n",
    "# Load dataset\n",
    "file_path = \"/content/HeartDiseaseTrain-Test.csv\"  # Corrected file path\n",
    "df = pd.read_csv(file_path)\n",
    "\n",
    "# Display first few rows\n",
    "print(df.head())\n",
    "\n",
    "# Check data types and missing values\n",
    "print(df.info())\n",
    "print(df.isnull().sum())\n",
    "\n",
    "# Drop non-numeric columns\n",
    "non_numeric_cols = df.select_dtypes(include=['object']).columns\n",
    "df = df.drop(columns=non_numeric_cols)  # Remove text-based columns\n",
    "\n",
    "# Handle missing values (only for numeric columns)\n",
    "df.fillna(df.mean(numeric_only=True), inplace=True)\n",
    "\n",
    "# Select 'age' and 'cholestoral' as features, 'target' as output (converted to binary)\n",
    "X1 = df['age'].values\n",
    "X2 = df['cholestoral'].values  # Fixed column name\n",
    "y = (df['target'] > 0).astype(int).values  # Convert 'target' > 0 to 1 (heart disease)\n",
    "\n",
    "# Normalize features using Min-Max Scaling\n",
    "X1_min, X1_max = min(X1), max(X1)\n",
    "X2_min, X2_max = min(X2), max(X2)\n",
    "\n",
    "X1 = (X1 - X1_min) / (X1_max - X1_min)\n",
    "X2 = (X2 - X2_min) / (X2_max - X2_min)\n",
    "\n",
    "print(f\"Processed Data:\\nX1 (Age): {X1[:5]}\\nX2 (Cholesterol): {X2[:5]}\\ny (Target): {y[:5]}\")\n"
   ]
  },
  {
   "cell_type": "code",
   "execution_count": 7,
   "metadata": {
    "executionInfo": {
     "elapsed": 50,
     "status": "ok",
     "timestamp": 1741096845199,
     "user": {
      "displayName": "Kavyasri V J",
      "userId": "05133862930213552696"
     },
     "user_tz": -330
    },
    "id": "wWDVY1sidXZk"
   },
   "outputs": [],
   "source": [
    "# Manually split into 80% training and 20% testing\n",
    "split_ratio = 0.8\n",
    "split_index = int(len(X1) * split_ratio)\n",
    "\n",
    "X1_train, X1_test = X1[:split_index], X1[split_index:]\n",
    "X2_train, X2_test = X2[:split_index], X2[split_index:]\n",
    "y_train, y_test = y[:split_index], y[split_index:]"
   ]
  },
  {
   "cell_type": "code",
   "execution_count": 8,
   "metadata": {
    "executionInfo": {
     "elapsed": 22,
     "status": "ok",
     "timestamp": 1741096854766,
     "user": {
      "displayName": "Kavyasri V J",
      "userId": "05133862930213552696"
     },
     "user_tz": -330
    },
    "id": "oBYfgrzadZpp"
   },
   "outputs": [],
   "source": [
    "# Sigmoid Activation Function\n",
    "def sigmoid(x):\n",
    "    return 1 / (1 + math.exp(-x))\n",
    "\n",
    "# Derivative of Sigmoid\n",
    "def sigmoid_derivative(x):\n",
    "    return x * (1 - x)\n",
    "\n",
    "# ReLU Activation Function\n",
    "def relu(x):\n",
    "    return max(0, x)\n",
    "\n",
    "# Derivative of ReLU\n",
    "def relu_derivative(x):\n",
    "    return 1 if x > 0 else 0\n"
   ]
  },
  {
   "cell_type": "code",
   "execution_count": 9,
   "metadata": {
    "executionInfo": {
     "elapsed": 29,
     "status": "ok",
     "timestamp": 1741096869710,
     "user": {
      "displayName": "Kavyasri V J",
      "userId": "05133862930213552696"
     },
     "user_tz": -330
    },
    "id": "0QOACD4PdbdD"
   },
   "outputs": [],
   "source": [
    "# Random Weight Initialization\n",
    "random.seed(42)\n",
    "w1 = random.uniform(-1, 1)  # Weight for X1 to Hidden Neuron 1\n",
    "w2 = random.uniform(-1, 1)  # Weight for X2 to Hidden Neuron 1\n",
    "w3 = random.uniform(-1, 1)  # Weight for X1 to Hidden Neuron 2\n",
    "w4 = random.uniform(-1, 1)  # Weight for X2 to Hidden Neuron 2\n",
    "\n",
    "b1 = random.uniform(-1, 1)  # Bias for Hidden Neuron 1\n",
    "b2 = random.uniform(-1, 1)  # Bias for Hidden Neuron 2\n",
    "\n",
    "w5 = random.uniform(-1, 1)  # Weight from Hidden Neuron 1 to Output\n",
    "w6 = random.uniform(-1, 1)  # Weight from Hidden Neuron 2 to Output\n",
    "\n",
    "b_out = random.uniform(-1, 1)  # Bias for Output Neuron\n"
   ]
  },
  {
   "cell_type": "code",
   "execution_count": 10,
   "metadata": {
    "executionInfo": {
     "elapsed": 63,
     "status": "ok",
     "timestamp": 1741096881024,
     "user": {
      "displayName": "Kavyasri V J",
      "userId": "05133862930213552696"
     },
     "user_tz": -330
    },
    "id": "DuxlBs8LdeWM"
   },
   "outputs": [],
   "source": [
    "def forward_propagation(x1, x2):\n",
    "    # Hidden Layer\n",
    "    z1 = w1 * x1 + w2 * x2 + b1\n",
    "    a1 = relu(z1)  # Activation for Neuron 1\n",
    "\n",
    "    z2 = w3 * x1 + w4 * x2 + b2\n",
    "    a2 = relu(z2)  # Activation for Neuron 2\n",
    "\n",
    "    # Output Layer\n",
    "    z_out = w5 * a1 + w6 * a2 + b_out\n",
    "    a_out = sigmoid(z_out)  # Output Activation (Sigmoid)\n",
    "\n",
    "    return a1, a2, a_out\n"
   ]
  },
  {
   "cell_type": "code",
   "execution_count": 11,
   "metadata": {
    "executionInfo": {
     "elapsed": 14,
     "status": "ok",
     "timestamp": 1741096894457,
     "user": {
      "displayName": "Kavyasri V J",
      "userId": "05133862930213552696"
     },
     "user_tz": -330
    },
    "id": "Kih2VJGSdjYr"
   },
   "outputs": [],
   "source": [
    "def backpropagation(x1, x2, y_true, a1, a2, a_out, learning_rate=0.01):\n",
    "    global w1, w2, w3, w4, w5, w6, b1, b2, b_out\n",
    "\n",
    "    # Compute Output Error\n",
    "    error = a_out - y_true\n",
    "\n",
    "    # Compute Gradients for Output Layer\n",
    "    dz_out = error * sigmoid_derivative(a_out)\n",
    "    dw5 = dz_out * a1\n",
    "    dw6 = dz_out * a2\n",
    "    db_out = dz_out\n",
    "\n",
    "    # Compute Gradients for Hidden Layer\n",
    "    dz1 = dz_out * w5 * relu_derivative(a1)\n",
    "    dz2 = dz_out * w6 * relu_derivative(a2)\n",
    "\n",
    "    dw1 = dz1 * x1\n",
    "    dw2 = dz1 * x2\n",
    "    db1 = dz1\n",
    "\n",
    "    dw3 = dz2 * x1\n",
    "    dw4 = dz2 * x2\n",
    "    db2 = dz2\n",
    "\n",
    "    # Update Weights and Biases\n",
    "    w1 -= learning_rate * dw1\n",
    "    w2 -= learning_rate * dw2\n",
    "    w3 -= learning_rate * dw3\n",
    "    w4 -= learning_rate * dw4\n",
    "    w5 -= learning_rate * dw5\n",
    "    w6 -= learning_rate * dw6\n",
    "\n",
    "    b1 -= learning_rate * db1\n",
    "    b2 -= learning_rate * db2\n",
    "    b_out -= learning_rate * db_out\n"
   ]
  },
  {
   "cell_type": "code",
   "execution_count": 14,
   "metadata": {
    "colab": {
     "base_uri": "https://localhost:8080/"
    },
    "executionInfo": {
     "elapsed": 46,
     "status": "ok",
     "timestamp": 1741096966310,
     "user": {
      "displayName": "Kavyasri V J",
      "userId": "05133862930213552696"
     },
     "user_tz": -330
    },
    "id": "YZs5MyEgd08L",
    "outputId": "facf0f37-967e-4de1-a79d-b0c21aeef80c"
   },
   "outputs": [
    {
     "name": "stdout",
     "output_type": "stream",
     "text": [
      "Predicted Heart Disease: 0\n"
     ]
    }
   ],
   "source": [
    "def predict(age, chol):\n",
    "    # Normalize Input\n",
    "    age = (age - X1_min) / (X1_max - X1_min)\n",
    "    chol = (chol - X2_min) / (X2_max - X2_min)\n",
    "\n",
    "    _, _, a_out = forward_propagation(age, chol)\n",
    "    return 1 if a_out > 0.5 else 0\n",
    "\n",
    "# Example Prediction\n",
    "new_age = 55\n",
    "new_chol = 240\n",
    "predicted_label = predict(new_age, new_chol)\n",
    "print(f\"Predicted Heart Disease: {predicted_label}\")\n"
   ]
  },
  {
   "cell_type": "code",
   "execution_count": 12,
   "metadata": {
    "colab": {
     "base_uri": "https://localhost:8080/"
    },
    "executionInfo": {
     "elapsed": 8328,
     "status": "ok",
     "timestamp": 1741096917964,
     "user": {
      "displayName": "Kavyasri V J",
      "userId": "05133862930213552696"
     },
     "user_tz": -330
    },
    "id": "YpmN0i0rdnGN",
    "outputId": "3142241b-8f1e-4b4d-92b8-cca88894979d"
   },
   "outputs": [
    {
     "name": "stdout",
     "output_type": "stream",
     "text": [
      "Epoch 0, Loss: 0.20132588920941757\n",
      "Epoch 100, Loss: 0.18279252434140217\n",
      "Epoch 200, Loss: 0.18251581577390558\n",
      "Epoch 300, Loss: 0.1824918079801892\n",
      "Epoch 400, Loss: 0.18250125948831766\n",
      "Epoch 500, Loss: 0.18249034044644705\n",
      "Epoch 600, Loss: 0.18247891479845377\n",
      "Epoch 700, Loss: 0.18247132419798454\n",
      "Epoch 800, Loss: 0.18246584573164418\n",
      "Epoch 900, Loss: 0.18246240247467774\n"
     ]
    }
   ],
   "source": [
    "def train(epochs=1000, learning_rate=0.01):\n",
    "    for epoch in range(epochs):\n",
    "        total_loss = 0\n",
    "        for i in range(len(X1_train)):\n",
    "            a1, a2, a_out = forward_propagation(X1_train[i], X2_train[i])\n",
    "            backpropagation(X1_train[i], X2_train[i], y_train[i], a1, a2, a_out, learning_rate)\n",
    "            total_loss += (a_out - y_train[i])**2  # MSE Loss\n",
    "\n",
    "        if epoch % 100 == 0:\n",
    "            print(f\"Epoch {epoch}, Loss: {total_loss / len(X1)}\")\n",
    "\n",
    "train(epochs=1000, learning_rate=0.01)\n"
   ]
  },
  {
   "cell_type": "code",
   "execution_count": 15,
   "metadata": {
    "colab": {
     "base_uri": "https://localhost:8080/"
    },
    "executionInfo": {
     "elapsed": 68,
     "status": "ok",
     "timestamp": 1741096975162,
     "user": {
      "displayName": "Kavyasri V J",
      "userId": "05133862930213552696"
     },
     "user_tz": -330
    },
    "id": "bZ2kF7RBdsAD",
    "outputId": "4dd172aa-b190-4f2c-827c-d6e40d3355c2"
   },
   "outputs": [
    {
     "name": "stdout",
     "output_type": "stream",
     "text": [
      "Accuracy on Test Data: 0.5902\n"
     ]
    }
   ],
   "source": [
    "# Evaluate on test set\n",
    "y_pred_test = [predict(X1_test[i] * (X1_max - X1_min) + X1_min,\n",
    "                       X2_test[i] * (X2_max - X2_min) + X2_min) for i in range(len(X1_test))]\n",
    "\n",
    "# Calculate Accuracy\n",
    "accuracy = sum(y_pred_test[i] == y_test[i] for i in range(len(y_test))) / len(y_test)\n",
    "print(f\"Accuracy on Test Data: {accuracy:.4f}\")\n"
   ]
  }
 ],
 "metadata": {
  "colab": {
   "authorship_tag": "ABX9TyPLuhYy7KlBpwpSe5lPwAYr",
   "provenance": []
  },
  "kernelspec": {
   "display_name": "Python 3",
   "name": "python3"
  },
  "language_info": {
   "name": "python"
  }
 },
 "nbformat": 4,
 "nbformat_minor": 0
}
